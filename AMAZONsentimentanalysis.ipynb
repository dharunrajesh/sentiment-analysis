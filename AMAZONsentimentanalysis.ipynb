{
  "nbformat": 4,
  "nbformat_minor": 0,
  "metadata": {
    "colab": {
      "provenance": []
    },
    "kernelspec": {
      "name": "python3",
      "display_name": "Python 3"
    },
    "language_info": {
      "name": "python"
    }
  },
  "cells": [
    {
      "cell_type": "markdown",
      "source": [
        "IMPORTING LIBRARIES\n"
      ],
      "metadata": {
        "id": "JZIKJWPvCfNY"
      }
    },
    {
      "cell_type": "code",
      "source": [
        "import pandas as pd\n",
        "import numpy as np\n",
        "import matplotlib.pyplot as plt\n",
        "import seaborn as sns\n",
        "import re\n",
        "import nltk\n",
        "nltk.download('stopwords')\n",
        "from sklearn.model_selection import train_test_split\n",
        "from sklearn.feature_extraction.text import TfidfVectorizer\n",
        "from sklearn.pipeline import Pipeline \n",
        "from sklearn.metrics import accuracy_score, confusion_matrix, classification_report,ConfusionMatrixDisplay\n",
        "from sklearn import naive_bayes\n",
        "from sklearn.linear_model import LogisticRegression\n",
        "from sklearn.svm import LinearSVC\n",
        "from sklearn.neighbors import KNeighborsClassifier\n",
        "from bs4 import BeautifulSoup\n",
        "from nltk.corpus import stopwords \n",
        "from sklearn.ensemble import RandomForestClassifier"
      ],
      "metadata": {
        "colab": {
          "base_uri": "https://localhost:8080/"
        },
        "id": "CDDvJYghCkOj",
        "outputId": "5f75edb8-acb8-4028-943a-d645ee9e5bde"
      },
      "execution_count": 17,
      "outputs": [
        {
          "output_type": "stream",
          "name": "stderr",
          "text": [
            "[nltk_data] Downloading package stopwords to /root/nltk_data...\n",
            "[nltk_data]   Unzipping corpora/stopwords.zip.\n"
          ]
        }
      ]
    },
    {
      "cell_type": "code",
      "source": [
        "LOADING FILE\n"
      ],
      "metadata": {
        "id": "rhpgw6hlClXx"
      },
      "execution_count": null,
      "outputs": []
    },
    {
      "cell_type": "code",
      "source": [
        "df = pd.read_csv('/content/appl_1_amazon_pc.csv')"
      ],
      "metadata": {
        "id": "Bi6Rdr54Cm99"
      },
      "execution_count": 3,
      "outputs": []
    },
    {
      "cell_type": "code",
      "source": [
        "df.head()"
      ],
      "metadata": {
        "colab": {
          "base_uri": "https://localhost:8080/",
          "height": 511
        },
        "id": "6L6nP9OWCvsq",
        "outputId": "6d356af7-adef-452d-b883-09b61565698c"
      },
      "execution_count": 4,
      "outputs": [
        {
          "output_type": "execute_result",
          "data": {
            "text/plain": [
              "  marketplace  customer_id       review_id  product_id  product_parent  \\\n",
              "0          US     11555559  R1QXC7AHHJBQ3O  B00IKPX4GY         2693241   \n",
              "1          US     31469372  R175VSRV6ZETOP  B00IKPYKWG         2693241   \n",
              "2          US     26843895  R2HRFF78MWGY19  B00IKPW0UA         2693241   \n",
              "3          US     19844868   R8Q39WPKYVSTX  B00LCHSHMS         2693241   \n",
              "4          US      1189852  R3RL4C8YP2ZCJL  B00IKPZ5V6         2693241   \n",
              "\n",
              "                           product_title product_category  star_rating  \\\n",
              "0  Fire HD 7, 7\" HD Display, Wi-Fi, 8 GB               PC            5   \n",
              "1  Fire HD 7, 7\" HD Display, Wi-Fi, 8 GB               PC            3   \n",
              "2  Fire HD 7, 7\" HD Display, Wi-Fi, 8 GB               PC            5   \n",
              "3  Fire HD 7, 7\" HD Display, Wi-Fi, 8 GB               PC            4   \n",
              "4  Fire HD 7, 7\" HD Display, Wi-Fi, 8 GB               PC            5   \n",
              "\n",
              "   helpful_votes  total_votes vine verified_purchase  \\\n",
              "0              0            0    N                 Y   \n",
              "1              0            0    N                 N   \n",
              "2              0            0    N                 Y   \n",
              "3              0            0    N                 N   \n",
              "4              0            0    N                 Y   \n",
              "\n",
              "                                     review_headline  \\\n",
              "0                                         Five Stars   \n",
              "1  Lots of ads Slow processing speed Occasionally...   \n",
              "2                            Well thought out device   \n",
              "3  Not all apps/games we were looking forward to ...   \n",
              "4                                         Five Stars   \n",
              "\n",
              "                                         review_body review_date  sentiment  \n",
              "0                                      Great love it  2015-08-31          1  \n",
              "1  Lots of ads<br />Slow processing speed<br />Oc...  2015-08-31          0  \n",
              "2  Excellent unit.  The versatility of this table...  2015-08-31          1  \n",
              "3  I bought this on Amazon Prime so I ended up bu...  2015-08-31          1  \n",
              "4  All Amazon products continue to meet my expect...  2015-08-31          1  "
            ],
            "text/html": [
              "\n",
              "  <div id=\"df-e2673fdd-fe48-41a0-a2ec-027fd7903d40\">\n",
              "    <div class=\"colab-df-container\">\n",
              "      <div>\n",
              "<style scoped>\n",
              "    .dataframe tbody tr th:only-of-type {\n",
              "        vertical-align: middle;\n",
              "    }\n",
              "\n",
              "    .dataframe tbody tr th {\n",
              "        vertical-align: top;\n",
              "    }\n",
              "\n",
              "    .dataframe thead th {\n",
              "        text-align: right;\n",
              "    }\n",
              "</style>\n",
              "<table border=\"1\" class=\"dataframe\">\n",
              "  <thead>\n",
              "    <tr style=\"text-align: right;\">\n",
              "      <th></th>\n",
              "      <th>marketplace</th>\n",
              "      <th>customer_id</th>\n",
              "      <th>review_id</th>\n",
              "      <th>product_id</th>\n",
              "      <th>product_parent</th>\n",
              "      <th>product_title</th>\n",
              "      <th>product_category</th>\n",
              "      <th>star_rating</th>\n",
              "      <th>helpful_votes</th>\n",
              "      <th>total_votes</th>\n",
              "      <th>vine</th>\n",
              "      <th>verified_purchase</th>\n",
              "      <th>review_headline</th>\n",
              "      <th>review_body</th>\n",
              "      <th>review_date</th>\n",
              "      <th>sentiment</th>\n",
              "    </tr>\n",
              "  </thead>\n",
              "  <tbody>\n",
              "    <tr>\n",
              "      <th>0</th>\n",
              "      <td>US</td>\n",
              "      <td>11555559</td>\n",
              "      <td>R1QXC7AHHJBQ3O</td>\n",
              "      <td>B00IKPX4GY</td>\n",
              "      <td>2693241</td>\n",
              "      <td>Fire HD 7, 7\" HD Display, Wi-Fi, 8 GB</td>\n",
              "      <td>PC</td>\n",
              "      <td>5</td>\n",
              "      <td>0</td>\n",
              "      <td>0</td>\n",
              "      <td>N</td>\n",
              "      <td>Y</td>\n",
              "      <td>Five Stars</td>\n",
              "      <td>Great love it</td>\n",
              "      <td>2015-08-31</td>\n",
              "      <td>1</td>\n",
              "    </tr>\n",
              "    <tr>\n",
              "      <th>1</th>\n",
              "      <td>US</td>\n",
              "      <td>31469372</td>\n",
              "      <td>R175VSRV6ZETOP</td>\n",
              "      <td>B00IKPYKWG</td>\n",
              "      <td>2693241</td>\n",
              "      <td>Fire HD 7, 7\" HD Display, Wi-Fi, 8 GB</td>\n",
              "      <td>PC</td>\n",
              "      <td>3</td>\n",
              "      <td>0</td>\n",
              "      <td>0</td>\n",
              "      <td>N</td>\n",
              "      <td>N</td>\n",
              "      <td>Lots of ads Slow processing speed Occasionally...</td>\n",
              "      <td>Lots of ads&lt;br /&gt;Slow processing speed&lt;br /&gt;Oc...</td>\n",
              "      <td>2015-08-31</td>\n",
              "      <td>0</td>\n",
              "    </tr>\n",
              "    <tr>\n",
              "      <th>2</th>\n",
              "      <td>US</td>\n",
              "      <td>26843895</td>\n",
              "      <td>R2HRFF78MWGY19</td>\n",
              "      <td>B00IKPW0UA</td>\n",
              "      <td>2693241</td>\n",
              "      <td>Fire HD 7, 7\" HD Display, Wi-Fi, 8 GB</td>\n",
              "      <td>PC</td>\n",
              "      <td>5</td>\n",
              "      <td>0</td>\n",
              "      <td>0</td>\n",
              "      <td>N</td>\n",
              "      <td>Y</td>\n",
              "      <td>Well thought out device</td>\n",
              "      <td>Excellent unit.  The versatility of this table...</td>\n",
              "      <td>2015-08-31</td>\n",
              "      <td>1</td>\n",
              "    </tr>\n",
              "    <tr>\n",
              "      <th>3</th>\n",
              "      <td>US</td>\n",
              "      <td>19844868</td>\n",
              "      <td>R8Q39WPKYVSTX</td>\n",
              "      <td>B00LCHSHMS</td>\n",
              "      <td>2693241</td>\n",
              "      <td>Fire HD 7, 7\" HD Display, Wi-Fi, 8 GB</td>\n",
              "      <td>PC</td>\n",
              "      <td>4</td>\n",
              "      <td>0</td>\n",
              "      <td>0</td>\n",
              "      <td>N</td>\n",
              "      <td>N</td>\n",
              "      <td>Not all apps/games we were looking forward to ...</td>\n",
              "      <td>I bought this on Amazon Prime so I ended up bu...</td>\n",
              "      <td>2015-08-31</td>\n",
              "      <td>1</td>\n",
              "    </tr>\n",
              "    <tr>\n",
              "      <th>4</th>\n",
              "      <td>US</td>\n",
              "      <td>1189852</td>\n",
              "      <td>R3RL4C8YP2ZCJL</td>\n",
              "      <td>B00IKPZ5V6</td>\n",
              "      <td>2693241</td>\n",
              "      <td>Fire HD 7, 7\" HD Display, Wi-Fi, 8 GB</td>\n",
              "      <td>PC</td>\n",
              "      <td>5</td>\n",
              "      <td>0</td>\n",
              "      <td>0</td>\n",
              "      <td>N</td>\n",
              "      <td>Y</td>\n",
              "      <td>Five Stars</td>\n",
              "      <td>All Amazon products continue to meet my expect...</td>\n",
              "      <td>2015-08-31</td>\n",
              "      <td>1</td>\n",
              "    </tr>\n",
              "  </tbody>\n",
              "</table>\n",
              "</div>\n",
              "      <button class=\"colab-df-convert\" onclick=\"convertToInteractive('df-e2673fdd-fe48-41a0-a2ec-027fd7903d40')\"\n",
              "              title=\"Convert this dataframe to an interactive table.\"\n",
              "              style=\"display:none;\">\n",
              "        \n",
              "  <svg xmlns=\"http://www.w3.org/2000/svg\" height=\"24px\"viewBox=\"0 0 24 24\"\n",
              "       width=\"24px\">\n",
              "    <path d=\"M0 0h24v24H0V0z\" fill=\"none\"/>\n",
              "    <path d=\"M18.56 5.44l.94 2.06.94-2.06 2.06-.94-2.06-.94-.94-2.06-.94 2.06-2.06.94zm-11 1L8.5 8.5l.94-2.06 2.06-.94-2.06-.94L8.5 2.5l-.94 2.06-2.06.94zm10 10l.94 2.06.94-2.06 2.06-.94-2.06-.94-.94-2.06-.94 2.06-2.06.94z\"/><path d=\"M17.41 7.96l-1.37-1.37c-.4-.4-.92-.59-1.43-.59-.52 0-1.04.2-1.43.59L10.3 9.45l-7.72 7.72c-.78.78-.78 2.05 0 2.83L4 21.41c.39.39.9.59 1.41.59.51 0 1.02-.2 1.41-.59l7.78-7.78 2.81-2.81c.8-.78.8-2.07 0-2.86zM5.41 20L4 18.59l7.72-7.72 1.47 1.35L5.41 20z\"/>\n",
              "  </svg>\n",
              "      </button>\n",
              "      \n",
              "  <style>\n",
              "    .colab-df-container {\n",
              "      display:flex;\n",
              "      flex-wrap:wrap;\n",
              "      gap: 12px;\n",
              "    }\n",
              "\n",
              "    .colab-df-convert {\n",
              "      background-color: #E8F0FE;\n",
              "      border: none;\n",
              "      border-radius: 50%;\n",
              "      cursor: pointer;\n",
              "      display: none;\n",
              "      fill: #1967D2;\n",
              "      height: 32px;\n",
              "      padding: 0 0 0 0;\n",
              "      width: 32px;\n",
              "    }\n",
              "\n",
              "    .colab-df-convert:hover {\n",
              "      background-color: #E2EBFA;\n",
              "      box-shadow: 0px 1px 2px rgba(60, 64, 67, 0.3), 0px 1px 3px 1px rgba(60, 64, 67, 0.15);\n",
              "      fill: #174EA6;\n",
              "    }\n",
              "\n",
              "    [theme=dark] .colab-df-convert {\n",
              "      background-color: #3B4455;\n",
              "      fill: #D2E3FC;\n",
              "    }\n",
              "\n",
              "    [theme=dark] .colab-df-convert:hover {\n",
              "      background-color: #434B5C;\n",
              "      box-shadow: 0px 1px 3px 1px rgba(0, 0, 0, 0.15);\n",
              "      filter: drop-shadow(0px 1px 2px rgba(0, 0, 0, 0.3));\n",
              "      fill: #FFFFFF;\n",
              "    }\n",
              "  </style>\n",
              "\n",
              "      <script>\n",
              "        const buttonEl =\n",
              "          document.querySelector('#df-e2673fdd-fe48-41a0-a2ec-027fd7903d40 button.colab-df-convert');\n",
              "        buttonEl.style.display =\n",
              "          google.colab.kernel.accessAllowed ? 'block' : 'none';\n",
              "\n",
              "        async function convertToInteractive(key) {\n",
              "          const element = document.querySelector('#df-e2673fdd-fe48-41a0-a2ec-027fd7903d40');\n",
              "          const dataTable =\n",
              "            await google.colab.kernel.invokeFunction('convertToInteractive',\n",
              "                                                     [key], {});\n",
              "          if (!dataTable) return;\n",
              "\n",
              "          const docLinkHtml = 'Like what you see? Visit the ' +\n",
              "            '<a target=\"_blank\" href=https://colab.research.google.com/notebooks/data_table.ipynb>data table notebook</a>'\n",
              "            + ' to learn more about interactive tables.';\n",
              "          element.innerHTML = '';\n",
              "          dataTable['output_type'] = 'display_data';\n",
              "          await google.colab.output.renderOutput(dataTable, element);\n",
              "          const docLink = document.createElement('div');\n",
              "          docLink.innerHTML = docLinkHtml;\n",
              "          element.appendChild(docLink);\n",
              "        }\n",
              "      </script>\n",
              "    </div>\n",
              "  </div>\n",
              "  "
            ]
          },
          "metadata": {},
          "execution_count": 4
        }
      ]
    },
    {
      "cell_type": "code",
      "source": [
        "df.columns"
      ],
      "metadata": {
        "colab": {
          "base_uri": "https://localhost:8080/"
        },
        "id": "wfYaynDJC8yy",
        "outputId": "776b5b41-51d0-4147-f62d-67cb74584a5d"
      },
      "execution_count": 5,
      "outputs": [
        {
          "output_type": "execute_result",
          "data": {
            "text/plain": [
              "Index(['marketplace', 'customer_id', 'review_id', 'product_id',\n",
              "       'product_parent', 'product_title', 'product_category', 'star_rating',\n",
              "       'helpful_votes', 'total_votes', 'vine', 'verified_purchase',\n",
              "       'review_headline', 'review_body', 'review_date', 'sentiment'],\n",
              "      dtype='object')"
            ]
          },
          "metadata": {},
          "execution_count": 5
        }
      ]
    },
    {
      "cell_type": "code",
      "source": [
        "df.info()"
      ],
      "metadata": {
        "colab": {
          "base_uri": "https://localhost:8080/"
        },
        "id": "US5_iyL5C9_2",
        "outputId": "c5d3bdbb-9276-455b-b239-5fb6e97a2cc4"
      },
      "execution_count": 6,
      "outputs": [
        {
          "output_type": "stream",
          "name": "stdout",
          "text": [
            "<class 'pandas.core.frame.DataFrame'>\n",
            "RangeIndex: 30846 entries, 0 to 30845\n",
            "Data columns (total 16 columns):\n",
            " #   Column             Non-Null Count  Dtype \n",
            "---  ------             --------------  ----- \n",
            " 0   marketplace        30846 non-null  object\n",
            " 1   customer_id        30846 non-null  int64 \n",
            " 2   review_id          30846 non-null  object\n",
            " 3   product_id         30846 non-null  object\n",
            " 4   product_parent     30846 non-null  int64 \n",
            " 5   product_title      30846 non-null  object\n",
            " 6   product_category   30846 non-null  object\n",
            " 7   star_rating        30846 non-null  int64 \n",
            " 8   helpful_votes      30846 non-null  int64 \n",
            " 9   total_votes        30846 non-null  int64 \n",
            " 10  vine               30846 non-null  object\n",
            " 11  verified_purchase  30846 non-null  object\n",
            " 12  review_headline    30846 non-null  object\n",
            " 13  review_body        30846 non-null  object\n",
            " 14  review_date        30846 non-null  object\n",
            " 15  sentiment          30846 non-null  int64 \n",
            "dtypes: int64(6), object(10)\n",
            "memory usage: 3.8+ MB\n"
          ]
        }
      ]
    },
    {
      "cell_type": "markdown",
      "source": [
        "INCLUDING SENTIMENT ATTRIBUTE FOR CLASSIFICATION"
      ],
      "metadata": {
        "id": "60tecXTEDAr2"
      }
    },
    {
      "cell_type": "code",
      "source": [
        "df['sentiment'] = np.where(df['star_rating'] == 5.0, 1,np.where(df['star_rating'] == 4.0, 1, 0))"
      ],
      "metadata": {
        "id": "07VZuB3-DDC7"
      },
      "execution_count": 8,
      "outputs": []
    },
    {
      "cell_type": "markdown",
      "source": [
        "PRINTING UNIQUE VALUES OF PRODUCTS"
      ],
      "metadata": {
        "id": "tNzRwlMQDF5D"
      }
    },
    {
      "cell_type": "code",
      "source": [
        "df[\"product_title\"].unique()"
      ],
      "metadata": {
        "colab": {
          "base_uri": "https://localhost:8080/"
        },
        "id": "Btm4i0oJDTEd",
        "outputId": "f871e23e-647a-42de-912a-f502bc944497"
      },
      "execution_count": 9,
      "outputs": [
        {
          "output_type": "execute_result",
          "data": {
            "text/plain": [
              "array(['Fire HD 7, 7\" HD Display, Wi-Fi, 8 GB'], dtype=object)"
            ]
          },
          "metadata": {},
          "execution_count": 9
        }
      ]
    },
    {
      "cell_type": "code",
      "source": [
        "prod = df.loc[df[\"product_title\"]=='Fire HD 7, 7\" HD Display, Wi-Fi, 8 GB']\n",
        "prod"
      ],
      "metadata": {
        "colab": {
          "base_uri": "https://localhost:8080/",
          "height": 811
        },
        "id": "FfznI4_QEESD",
        "outputId": "64f73090-9037-4970-8dd6-bf28a4a243b0"
      },
      "execution_count": 10,
      "outputs": [
        {
          "output_type": "execute_result",
          "data": {
            "text/plain": [
              "      marketplace  customer_id       review_id  product_id  product_parent  \\\n",
              "0              US     11555559  R1QXC7AHHJBQ3O  B00IKPX4GY         2693241   \n",
              "1              US     31469372  R175VSRV6ZETOP  B00IKPYKWG         2693241   \n",
              "2              US     26843895  R2HRFF78MWGY19  B00IKPW0UA         2693241   \n",
              "3              US     19844868   R8Q39WPKYVSTX  B00LCHSHMS         2693241   \n",
              "4              US      1189852  R3RL4C8YP2ZCJL  B00IKPZ5V6         2693241   \n",
              "...           ...          ...             ...         ...             ...   \n",
              "30841          US     44834233  R366C7ARIWLN7R  B00IKPW0UA         2693241   \n",
              "30842          US     13376158  R35PL0AOCUXLU9  B00IKPYKWG         2693241   \n",
              "30843          US     40485963  R18ZJVY86AUFII  B00KC6XV58         2693241   \n",
              "30844          US     33485035  R36QVLQXMCZRSJ  B00IKPYKWG         2693241   \n",
              "30845          US      7015231  R1MWVQUDBUADGE  B00IKPYKWG         2693241   \n",
              "\n",
              "                               product_title product_category  star_rating  \\\n",
              "0      Fire HD 7, 7\" HD Display, Wi-Fi, 8 GB               PC            5   \n",
              "1      Fire HD 7, 7\" HD Display, Wi-Fi, 8 GB               PC            3   \n",
              "2      Fire HD 7, 7\" HD Display, Wi-Fi, 8 GB               PC            5   \n",
              "3      Fire HD 7, 7\" HD Display, Wi-Fi, 8 GB               PC            4   \n",
              "4      Fire HD 7, 7\" HD Display, Wi-Fi, 8 GB               PC            5   \n",
              "...                                      ...              ...          ...   \n",
              "30841  Fire HD 7, 7\" HD Display, Wi-Fi, 8 GB               PC            5   \n",
              "30842  Fire HD 7, 7\" HD Display, Wi-Fi, 8 GB               PC            5   \n",
              "30843  Fire HD 7, 7\" HD Display, Wi-Fi, 8 GB               PC            5   \n",
              "30844  Fire HD 7, 7\" HD Display, Wi-Fi, 8 GB               PC            4   \n",
              "30845  Fire HD 7, 7\" HD Display, Wi-Fi, 8 GB               PC            5   \n",
              "\n",
              "       helpful_votes  total_votes vine verified_purchase  \\\n",
              "0                  0            0    N                 Y   \n",
              "1                  0            0    N                 N   \n",
              "2                  0            0    N                 Y   \n",
              "3                  0            0    N                 N   \n",
              "4                  0            0    N                 Y   \n",
              "...              ...          ...  ...               ...   \n",
              "30841           3720         3875    N                 Y   \n",
              "30842           2716         2849    N                 Y   \n",
              "30843           1525         1629    N                 Y   \n",
              "30844            143          163    N                 Y   \n",
              "30845              2           10    N                 N   \n",
              "\n",
              "                                         review_headline  \\\n",
              "0                                             Five Stars   \n",
              "1      Lots of ads Slow processing speed Occasionally...   \n",
              "2                                Well thought out device   \n",
              "3      Not all apps/games we were looking forward to ...   \n",
              "4                                             Five Stars   \n",
              "...                                                  ...   \n",
              "30841  A great upgrade for me from an older Kindle Fire!   \n",
              "30842                               Great Value for $139   \n",
              "30843                   Even grandma has it figured out!   \n",
              "30844                        The Honda Accord of Tablets   \n",
              "30845                                    won't regret it   \n",
              "\n",
              "                                             review_body review_date  \\\n",
              "0                                          Great love it  2015-08-31   \n",
              "1      Lots of ads<br />Slow processing speed<br />Oc...  2015-08-31   \n",
              "2      Excellent unit.  The versatility of this table...  2015-08-31   \n",
              "3      I bought this on Amazon Prime so I ended up bu...  2015-08-31   \n",
              "4      All Amazon products continue to meet my expect...  2015-08-31   \n",
              "...                                                  ...         ...   \n",
              "30841  [[VIDEOID:moP3B6GS5RL8LY]]I purchased the orig...  2014-10-03   \n",
              "30842  I'm writing this review with the benefit of be...  2014-10-03   \n",
              "30843  I purchased this Kindle for my grandma, becaus...  2014-10-03   \n",
              "30844  I bought my tablet Fire HD 7 at Best Buy on th...  2014-10-03   \n",
              "30845  Am impressive piece of hardware for the $. No ...  2014-10-03   \n",
              "\n",
              "       sentiment  \n",
              "0              1  \n",
              "1              0  \n",
              "2              1  \n",
              "3              1  \n",
              "4              1  \n",
              "...          ...  \n",
              "30841          1  \n",
              "30842          1  \n",
              "30843          1  \n",
              "30844          1  \n",
              "30845          1  \n",
              "\n",
              "[30846 rows x 16 columns]"
            ],
            "text/html": [
              "\n",
              "  <div id=\"df-4c517e7e-0b70-4156-ace5-c1facd08b10a\">\n",
              "    <div class=\"colab-df-container\">\n",
              "      <div>\n",
              "<style scoped>\n",
              "    .dataframe tbody tr th:only-of-type {\n",
              "        vertical-align: middle;\n",
              "    }\n",
              "\n",
              "    .dataframe tbody tr th {\n",
              "        vertical-align: top;\n",
              "    }\n",
              "\n",
              "    .dataframe thead th {\n",
              "        text-align: right;\n",
              "    }\n",
              "</style>\n",
              "<table border=\"1\" class=\"dataframe\">\n",
              "  <thead>\n",
              "    <tr style=\"text-align: right;\">\n",
              "      <th></th>\n",
              "      <th>marketplace</th>\n",
              "      <th>customer_id</th>\n",
              "      <th>review_id</th>\n",
              "      <th>product_id</th>\n",
              "      <th>product_parent</th>\n",
              "      <th>product_title</th>\n",
              "      <th>product_category</th>\n",
              "      <th>star_rating</th>\n",
              "      <th>helpful_votes</th>\n",
              "      <th>total_votes</th>\n",
              "      <th>vine</th>\n",
              "      <th>verified_purchase</th>\n",
              "      <th>review_headline</th>\n",
              "      <th>review_body</th>\n",
              "      <th>review_date</th>\n",
              "      <th>sentiment</th>\n",
              "    </tr>\n",
              "  </thead>\n",
              "  <tbody>\n",
              "    <tr>\n",
              "      <th>0</th>\n",
              "      <td>US</td>\n",
              "      <td>11555559</td>\n",
              "      <td>R1QXC7AHHJBQ3O</td>\n",
              "      <td>B00IKPX4GY</td>\n",
              "      <td>2693241</td>\n",
              "      <td>Fire HD 7, 7\" HD Display, Wi-Fi, 8 GB</td>\n",
              "      <td>PC</td>\n",
              "      <td>5</td>\n",
              "      <td>0</td>\n",
              "      <td>0</td>\n",
              "      <td>N</td>\n",
              "      <td>Y</td>\n",
              "      <td>Five Stars</td>\n",
              "      <td>Great love it</td>\n",
              "      <td>2015-08-31</td>\n",
              "      <td>1</td>\n",
              "    </tr>\n",
              "    <tr>\n",
              "      <th>1</th>\n",
              "      <td>US</td>\n",
              "      <td>31469372</td>\n",
              "      <td>R175VSRV6ZETOP</td>\n",
              "      <td>B00IKPYKWG</td>\n",
              "      <td>2693241</td>\n",
              "      <td>Fire HD 7, 7\" HD Display, Wi-Fi, 8 GB</td>\n",
              "      <td>PC</td>\n",
              "      <td>3</td>\n",
              "      <td>0</td>\n",
              "      <td>0</td>\n",
              "      <td>N</td>\n",
              "      <td>N</td>\n",
              "      <td>Lots of ads Slow processing speed Occasionally...</td>\n",
              "      <td>Lots of ads&lt;br /&gt;Slow processing speed&lt;br /&gt;Oc...</td>\n",
              "      <td>2015-08-31</td>\n",
              "      <td>0</td>\n",
              "    </tr>\n",
              "    <tr>\n",
              "      <th>2</th>\n",
              "      <td>US</td>\n",
              "      <td>26843895</td>\n",
              "      <td>R2HRFF78MWGY19</td>\n",
              "      <td>B00IKPW0UA</td>\n",
              "      <td>2693241</td>\n",
              "      <td>Fire HD 7, 7\" HD Display, Wi-Fi, 8 GB</td>\n",
              "      <td>PC</td>\n",
              "      <td>5</td>\n",
              "      <td>0</td>\n",
              "      <td>0</td>\n",
              "      <td>N</td>\n",
              "      <td>Y</td>\n",
              "      <td>Well thought out device</td>\n",
              "      <td>Excellent unit.  The versatility of this table...</td>\n",
              "      <td>2015-08-31</td>\n",
              "      <td>1</td>\n",
              "    </tr>\n",
              "    <tr>\n",
              "      <th>3</th>\n",
              "      <td>US</td>\n",
              "      <td>19844868</td>\n",
              "      <td>R8Q39WPKYVSTX</td>\n",
              "      <td>B00LCHSHMS</td>\n",
              "      <td>2693241</td>\n",
              "      <td>Fire HD 7, 7\" HD Display, Wi-Fi, 8 GB</td>\n",
              "      <td>PC</td>\n",
              "      <td>4</td>\n",
              "      <td>0</td>\n",
              "      <td>0</td>\n",
              "      <td>N</td>\n",
              "      <td>N</td>\n",
              "      <td>Not all apps/games we were looking forward to ...</td>\n",
              "      <td>I bought this on Amazon Prime so I ended up bu...</td>\n",
              "      <td>2015-08-31</td>\n",
              "      <td>1</td>\n",
              "    </tr>\n",
              "    <tr>\n",
              "      <th>4</th>\n",
              "      <td>US</td>\n",
              "      <td>1189852</td>\n",
              "      <td>R3RL4C8YP2ZCJL</td>\n",
              "      <td>B00IKPZ5V6</td>\n",
              "      <td>2693241</td>\n",
              "      <td>Fire HD 7, 7\" HD Display, Wi-Fi, 8 GB</td>\n",
              "      <td>PC</td>\n",
              "      <td>5</td>\n",
              "      <td>0</td>\n",
              "      <td>0</td>\n",
              "      <td>N</td>\n",
              "      <td>Y</td>\n",
              "      <td>Five Stars</td>\n",
              "      <td>All Amazon products continue to meet my expect...</td>\n",
              "      <td>2015-08-31</td>\n",
              "      <td>1</td>\n",
              "    </tr>\n",
              "    <tr>\n",
              "      <th>...</th>\n",
              "      <td>...</td>\n",
              "      <td>...</td>\n",
              "      <td>...</td>\n",
              "      <td>...</td>\n",
              "      <td>...</td>\n",
              "      <td>...</td>\n",
              "      <td>...</td>\n",
              "      <td>...</td>\n",
              "      <td>...</td>\n",
              "      <td>...</td>\n",
              "      <td>...</td>\n",
              "      <td>...</td>\n",
              "      <td>...</td>\n",
              "      <td>...</td>\n",
              "      <td>...</td>\n",
              "      <td>...</td>\n",
              "    </tr>\n",
              "    <tr>\n",
              "      <th>30841</th>\n",
              "      <td>US</td>\n",
              "      <td>44834233</td>\n",
              "      <td>R366C7ARIWLN7R</td>\n",
              "      <td>B00IKPW0UA</td>\n",
              "      <td>2693241</td>\n",
              "      <td>Fire HD 7, 7\" HD Display, Wi-Fi, 8 GB</td>\n",
              "      <td>PC</td>\n",
              "      <td>5</td>\n",
              "      <td>3720</td>\n",
              "      <td>3875</td>\n",
              "      <td>N</td>\n",
              "      <td>Y</td>\n",
              "      <td>A great upgrade for me from an older Kindle Fire!</td>\n",
              "      <td>[[VIDEOID:moP3B6GS5RL8LY]]I purchased the orig...</td>\n",
              "      <td>2014-10-03</td>\n",
              "      <td>1</td>\n",
              "    </tr>\n",
              "    <tr>\n",
              "      <th>30842</th>\n",
              "      <td>US</td>\n",
              "      <td>13376158</td>\n",
              "      <td>R35PL0AOCUXLU9</td>\n",
              "      <td>B00IKPYKWG</td>\n",
              "      <td>2693241</td>\n",
              "      <td>Fire HD 7, 7\" HD Display, Wi-Fi, 8 GB</td>\n",
              "      <td>PC</td>\n",
              "      <td>5</td>\n",
              "      <td>2716</td>\n",
              "      <td>2849</td>\n",
              "      <td>N</td>\n",
              "      <td>Y</td>\n",
              "      <td>Great Value for $139</td>\n",
              "      <td>I'm writing this review with the benefit of be...</td>\n",
              "      <td>2014-10-03</td>\n",
              "      <td>1</td>\n",
              "    </tr>\n",
              "    <tr>\n",
              "      <th>30843</th>\n",
              "      <td>US</td>\n",
              "      <td>40485963</td>\n",
              "      <td>R18ZJVY86AUFII</td>\n",
              "      <td>B00KC6XV58</td>\n",
              "      <td>2693241</td>\n",
              "      <td>Fire HD 7, 7\" HD Display, Wi-Fi, 8 GB</td>\n",
              "      <td>PC</td>\n",
              "      <td>5</td>\n",
              "      <td>1525</td>\n",
              "      <td>1629</td>\n",
              "      <td>N</td>\n",
              "      <td>Y</td>\n",
              "      <td>Even grandma has it figured out!</td>\n",
              "      <td>I purchased this Kindle for my grandma, becaus...</td>\n",
              "      <td>2014-10-03</td>\n",
              "      <td>1</td>\n",
              "    </tr>\n",
              "    <tr>\n",
              "      <th>30844</th>\n",
              "      <td>US</td>\n",
              "      <td>33485035</td>\n",
              "      <td>R36QVLQXMCZRSJ</td>\n",
              "      <td>B00IKPYKWG</td>\n",
              "      <td>2693241</td>\n",
              "      <td>Fire HD 7, 7\" HD Display, Wi-Fi, 8 GB</td>\n",
              "      <td>PC</td>\n",
              "      <td>4</td>\n",
              "      <td>143</td>\n",
              "      <td>163</td>\n",
              "      <td>N</td>\n",
              "      <td>Y</td>\n",
              "      <td>The Honda Accord of Tablets</td>\n",
              "      <td>I bought my tablet Fire HD 7 at Best Buy on th...</td>\n",
              "      <td>2014-10-03</td>\n",
              "      <td>1</td>\n",
              "    </tr>\n",
              "    <tr>\n",
              "      <th>30845</th>\n",
              "      <td>US</td>\n",
              "      <td>7015231</td>\n",
              "      <td>R1MWVQUDBUADGE</td>\n",
              "      <td>B00IKPYKWG</td>\n",
              "      <td>2693241</td>\n",
              "      <td>Fire HD 7, 7\" HD Display, Wi-Fi, 8 GB</td>\n",
              "      <td>PC</td>\n",
              "      <td>5</td>\n",
              "      <td>2</td>\n",
              "      <td>10</td>\n",
              "      <td>N</td>\n",
              "      <td>N</td>\n",
              "      <td>won't regret it</td>\n",
              "      <td>Am impressive piece of hardware for the $. No ...</td>\n",
              "      <td>2014-10-03</td>\n",
              "      <td>1</td>\n",
              "    </tr>\n",
              "  </tbody>\n",
              "</table>\n",
              "<p>30846 rows × 16 columns</p>\n",
              "</div>\n",
              "      <button class=\"colab-df-convert\" onclick=\"convertToInteractive('df-4c517e7e-0b70-4156-ace5-c1facd08b10a')\"\n",
              "              title=\"Convert this dataframe to an interactive table.\"\n",
              "              style=\"display:none;\">\n",
              "        \n",
              "  <svg xmlns=\"http://www.w3.org/2000/svg\" height=\"24px\"viewBox=\"0 0 24 24\"\n",
              "       width=\"24px\">\n",
              "    <path d=\"M0 0h24v24H0V0z\" fill=\"none\"/>\n",
              "    <path d=\"M18.56 5.44l.94 2.06.94-2.06 2.06-.94-2.06-.94-.94-2.06-.94 2.06-2.06.94zm-11 1L8.5 8.5l.94-2.06 2.06-.94-2.06-.94L8.5 2.5l-.94 2.06-2.06.94zm10 10l.94 2.06.94-2.06 2.06-.94-2.06-.94-.94-2.06-.94 2.06-2.06.94z\"/><path d=\"M17.41 7.96l-1.37-1.37c-.4-.4-.92-.59-1.43-.59-.52 0-1.04.2-1.43.59L10.3 9.45l-7.72 7.72c-.78.78-.78 2.05 0 2.83L4 21.41c.39.39.9.59 1.41.59.51 0 1.02-.2 1.41-.59l7.78-7.78 2.81-2.81c.8-.78.8-2.07 0-2.86zM5.41 20L4 18.59l7.72-7.72 1.47 1.35L5.41 20z\"/>\n",
              "  </svg>\n",
              "      </button>\n",
              "      \n",
              "  <style>\n",
              "    .colab-df-container {\n",
              "      display:flex;\n",
              "      flex-wrap:wrap;\n",
              "      gap: 12px;\n",
              "    }\n",
              "\n",
              "    .colab-df-convert {\n",
              "      background-color: #E8F0FE;\n",
              "      border: none;\n",
              "      border-radius: 50%;\n",
              "      cursor: pointer;\n",
              "      display: none;\n",
              "      fill: #1967D2;\n",
              "      height: 32px;\n",
              "      padding: 0 0 0 0;\n",
              "      width: 32px;\n",
              "    }\n",
              "\n",
              "    .colab-df-convert:hover {\n",
              "      background-color: #E2EBFA;\n",
              "      box-shadow: 0px 1px 2px rgba(60, 64, 67, 0.3), 0px 1px 3px 1px rgba(60, 64, 67, 0.15);\n",
              "      fill: #174EA6;\n",
              "    }\n",
              "\n",
              "    [theme=dark] .colab-df-convert {\n",
              "      background-color: #3B4455;\n",
              "      fill: #D2E3FC;\n",
              "    }\n",
              "\n",
              "    [theme=dark] .colab-df-convert:hover {\n",
              "      background-color: #434B5C;\n",
              "      box-shadow: 0px 1px 3px 1px rgba(0, 0, 0, 0.15);\n",
              "      filter: drop-shadow(0px 1px 2px rgba(0, 0, 0, 0.3));\n",
              "      fill: #FFFFFF;\n",
              "    }\n",
              "  </style>\n",
              "\n",
              "      <script>\n",
              "        const buttonEl =\n",
              "          document.querySelector('#df-4c517e7e-0b70-4156-ace5-c1facd08b10a button.colab-df-convert');\n",
              "        buttonEl.style.display =\n",
              "          google.colab.kernel.accessAllowed ? 'block' : 'none';\n",
              "\n",
              "        async function convertToInteractive(key) {\n",
              "          const element = document.querySelector('#df-4c517e7e-0b70-4156-ace5-c1facd08b10a');\n",
              "          const dataTable =\n",
              "            await google.colab.kernel.invokeFunction('convertToInteractive',\n",
              "                                                     [key], {});\n",
              "          if (!dataTable) return;\n",
              "\n",
              "          const docLinkHtml = 'Like what you see? Visit the ' +\n",
              "            '<a target=\"_blank\" href=https://colab.research.google.com/notebooks/data_table.ipynb>data table notebook</a>'\n",
              "            + ' to learn more about interactive tables.';\n",
              "          element.innerHTML = '';\n",
              "          dataTable['output_type'] = 'display_data';\n",
              "          await google.colab.output.renderOutput(dataTable, element);\n",
              "          const docLink = document.createElement('div');\n",
              "          docLink.innerHTML = docLinkHtml;\n",
              "          element.appendChild(docLink);\n",
              "        }\n",
              "      </script>\n",
              "    </div>\n",
              "  </div>\n",
              "  "
            ]
          },
          "metadata": {},
          "execution_count": 10
        }
      ]
    },
    {
      "cell_type": "markdown",
      "source": [
        "SPLITTING THE DATASET"
      ],
      "metadata": {
        "id": "-d5KxZurELLy"
      }
    },
    {
      "cell_type": "code",
      "source": [
        "X = prod['review_body']\n",
        "Y = prod['sentiment']\n",
        "\n",
        "X_train, X_test, Y_train, Y_test = train_test_split(X, Y, test_size = 0.2, random_state=42)"
      ],
      "metadata": {
        "id": "-z1nl8aMENBC"
      },
      "execution_count": 11,
      "outputs": []
    },
    {
      "cell_type": "markdown",
      "source": [
        "ELIMINATING HTML STATEMENTS"
      ],
      "metadata": {
        "id": "5dnMhd7WEU4_"
      }
    },
    {
      "cell_type": "code",
      "source": [
        "def removeHTML(raw_text):\n",
        "    clean_HTML = BeautifulSoup(raw_text, 'lxml').get_text() \n",
        "    return clean_HTML"
      ],
      "metadata": {
        "id": "Vz6rHSElET15"
      },
      "execution_count": 12,
      "outputs": []
    },
    {
      "cell_type": "markdown",
      "source": [
        "ELIMINATING SPECIAL CHARACTERS"
      ],
      "metadata": {
        "id": "diSkSJLkEfBU"
      }
    },
    {
      "cell_type": "code",
      "source": [
        "def removeSpecialChar(raw_text):\n",
        "    clean_SpecialChar = re.sub(\"[^a-zA-Z]\", \" \", raw_text)  \n",
        "    return clean_SpecialChar"
      ],
      "metadata": {
        "id": "v1cRkBGiEfxa"
      },
      "execution_count": 13,
      "outputs": []
    },
    {
      "cell_type": "markdown",
      "source": [
        "CONVERTING ALL REVIEW TEXTS TO LOWER CASE"
      ],
      "metadata": {
        "id": "uiUopzOaEhd8"
      }
    },
    {
      "cell_type": "code",
      "source": [
        "def toLowerCase(raw_text):\n",
        "    clean_LowerCase = raw_text.lower().split()\n",
        "    return( \" \".join(clean_LowerCase))  "
      ],
      "metadata": {
        "id": "nXMMkGAjEm1R"
      },
      "execution_count": 14,
      "outputs": []
    },
    {
      "cell_type": "markdown",
      "source": [
        "ELIMINATING STOP WORDS FROM REVIEWS"
      ],
      "metadata": {
        "id": "NfRcnCuJEppP"
      }
    },
    {
      "cell_type": "code",
      "source": [
        "def removeStopWords(raw_text):\n",
        "    stops = set(stopwords.words(\"english\"))\n",
        "    words = [w for w in raw_text if not w in stops]\n",
        "    return( \" \".join(words))"
      ],
      "metadata": {
        "id": "gLkfGV_3Es2V"
      },
      "execution_count": 15,
      "outputs": []
    },
    {
      "cell_type": "markdown",
      "source": [
        "PROCESSING TRAIN AND TEST DATA "
      ],
      "metadata": {
        "id": "Sszm5C3yEwV8"
      }
    },
    {
      "cell_type": "code",
      "source": [
        "X_train_cleaned = []\n",
        "\n",
        "for val in X_train:\n",
        "    val = removeHTML(val)\n",
        "    val = removeSpecialChar(val)\n",
        "    val = toLowerCase(val)\n",
        "    removeStopWords(val) \n",
        "    X_train_cleaned.append(val) "
      ],
      "metadata": {
        "id": "LvP42rHqEzg-"
      },
      "execution_count": 18,
      "outputs": []
    },
    {
      "cell_type": "code",
      "source": [
        "X_test_cleaned = []\n",
        "\n",
        "for val in X_test:\n",
        "    val = removeHTML(val)\n",
        "    val = removeSpecialChar(val)\n",
        "    val = toLowerCase(val)\n",
        "    removeStopWords(val)\n",
        "    X_test_cleaned.append(val) "
      ],
      "metadata": {
        "id": "kTb4slTrFH5h"
      },
      "execution_count": 19,
      "outputs": []
    },
    {
      "cell_type": "markdown",
      "source": [
        "CONVERTING DOCUMENTS TO MATRIX OF TF-IDF FEATURES"
      ],
      "metadata": {
        "id": "ojEueF5DFKZB"
      }
    },
    {
      "cell_type": "code",
      "source": [
        "tvec = TfidfVectorizer(use_idf=True,\n",
        "strip_accents='ascii')\n",
        "\n",
        "X_train_tvec = tvec.fit_transform(X_train_cleaned)"
      ],
      "metadata": {
        "id": "xmqYhCc9FLKQ"
      },
      "execution_count": 20,
      "outputs": []
    },
    {
      "cell_type": "markdown",
      "source": [
        "SVC MODEL"
      ],
      "metadata": {
        "id": "MIJvZHOgFOlD"
      }
    },
    {
      "cell_type": "code",
      "source": [
        "svr_lin = LinearSVC(multi_class='ovr',C=1.0,loss='squared_hinge', dual=False)\n",
        "svr_lin.fit(X_train_tvec, Y_train)"
      ],
      "metadata": {
        "colab": {
          "base_uri": "https://localhost:8080/"
        },
        "id": "rYHw-EYCFP-w",
        "outputId": "47b52558-8a69-4bdf-e00e-5fecd94f10da"
      },
      "execution_count": 21,
      "outputs": [
        {
          "output_type": "execute_result",
          "data": {
            "text/plain": [
              "LinearSVC(dual=False)"
            ]
          },
          "metadata": {},
          "execution_count": 21
        }
      ]
    },
    {
      "cell_type": "markdown",
      "source": [
        "PREDICTIONS FOR NEGATIVE AND POSITIVE REVIEW"
      ],
      "metadata": {
        "id": "BetztRNYFT5e"
      }
    },
    {
      "cell_type": "code",
      "source": [
        "svr_lin_predictions = svr_lin.predict(tvec.transform(X_test_cleaned))\n",
        "report = classification_report(Y_test,svr_lin_predictions, output_dict=True)\n",
        "data_report = pd.DataFrame(report).transpose().round(2)\n",
        "cm = sns.light_palette(\"BLUE\", as_cmap=True)\n",
        "data_report.style.background_gradient(cmap=cm)"
      ],
      "metadata": {
        "colab": {
          "base_uri": "https://localhost:8080/",
          "height": 204
        },
        "id": "-GHkyTpHFUlN",
        "outputId": "e6f563ec-a93e-4e15-e37d-aac15e872724"
      },
      "execution_count": 23,
      "outputs": [
        {
          "output_type": "execute_result",
          "data": {
            "text/plain": [
              "<pandas.io.formats.style.Styler at 0x7f654fc46130>"
            ],
            "text/html": [
              "<style type=\"text/css\">\n",
              "#T_c3f2c_row0_col0, #T_c3f2c_row0_col1, #T_c3f2c_row0_col2, #T_c3f2c_row2_col3 {\n",
              "  background-color: #f0f0f3;\n",
              "  color: #000000;\n",
              "}\n",
              "#T_c3f2c_row0_col3 {\n",
              "  background-color: #c9c9f5;\n",
              "  color: #000000;\n",
              "}\n",
              "#T_c3f2c_row1_col0, #T_c3f2c_row1_col1, #T_c3f2c_row1_col2, #T_c3f2c_row3_col3, #T_c3f2c_row4_col3 {\n",
              "  background-color: #0000ff;\n",
              "  color: #f1f1f1;\n",
              "}\n",
              "#T_c3f2c_row1_col3 {\n",
              "  background-color: #2828fd;\n",
              "  color: #f1f1f1;\n",
              "}\n",
              "#T_c3f2c_row2_col0 {\n",
              "  background-color: #1e1efd;\n",
              "  color: #f1f1f1;\n",
              "}\n",
              "#T_c3f2c_row2_col1, #T_c3f2c_row4_col1 {\n",
              "  background-color: #2424fd;\n",
              "  color: #f1f1f1;\n",
              "}\n",
              "#T_c3f2c_row2_col2 {\n",
              "  background-color: #2626fd;\n",
              "  color: #f1f1f1;\n",
              "}\n",
              "#T_c3f2c_row3_col0 {\n",
              "  background-color: #7979f9;\n",
              "  color: #f1f1f1;\n",
              "}\n",
              "#T_c3f2c_row3_col1 {\n",
              "  background-color: #7575f9;\n",
              "  color: #f1f1f1;\n",
              "}\n",
              "#T_c3f2c_row3_col2 {\n",
              "  background-color: #7d7df9;\n",
              "  color: #f1f1f1;\n",
              "}\n",
              "#T_c3f2c_row4_col0 {\n",
              "  background-color: #2d2dfd;\n",
              "  color: #f1f1f1;\n",
              "}\n",
              "#T_c3f2c_row4_col2 {\n",
              "  background-color: #3030fd;\n",
              "  color: #f1f1f1;\n",
              "}\n",
              "</style>\n",
              "<table id=\"T_c3f2c_\" class=\"dataframe\">\n",
              "  <thead>\n",
              "    <tr>\n",
              "      <th class=\"blank level0\" >&nbsp;</th>\n",
              "      <th class=\"col_heading level0 col0\" >precision</th>\n",
              "      <th class=\"col_heading level0 col1\" >recall</th>\n",
              "      <th class=\"col_heading level0 col2\" >f1-score</th>\n",
              "      <th class=\"col_heading level0 col3\" >support</th>\n",
              "    </tr>\n",
              "  </thead>\n",
              "  <tbody>\n",
              "    <tr>\n",
              "      <th id=\"T_c3f2c_level0_row0\" class=\"row_heading level0 row0\" >0</th>\n",
              "      <td id=\"T_c3f2c_row0_col0\" class=\"data row0 col0\" >0.770000</td>\n",
              "      <td id=\"T_c3f2c_row0_col1\" class=\"data row0 col1\" >0.630000</td>\n",
              "      <td id=\"T_c3f2c_row0_col2\" class=\"data row0 col2\" >0.700000</td>\n",
              "      <td id=\"T_c3f2c_row0_col3\" class=\"data row0 col3\" >1018.000000</td>\n",
              "    </tr>\n",
              "    <tr>\n",
              "      <th id=\"T_c3f2c_level0_row1\" class=\"row_heading level0 row1\" >1</th>\n",
              "      <td id=\"T_c3f2c_row1_col0\" class=\"data row1 col0\" >0.930000</td>\n",
              "      <td id=\"T_c3f2c_row1_col1\" class=\"data row1 col1\" >0.960000</td>\n",
              "      <td id=\"T_c3f2c_row1_col2\" class=\"data row1 col2\" >0.950000</td>\n",
              "      <td id=\"T_c3f2c_row1_col3\" class=\"data row1 col3\" >5152.000000</td>\n",
              "    </tr>\n",
              "    <tr>\n",
              "      <th id=\"T_c3f2c_level0_row2\" class=\"row_heading level0 row2\" >accuracy</th>\n",
              "      <td id=\"T_c3f2c_row2_col0\" class=\"data row2 col0\" >0.910000</td>\n",
              "      <td id=\"T_c3f2c_row2_col1\" class=\"data row2 col1\" >0.910000</td>\n",
              "      <td id=\"T_c3f2c_row2_col2\" class=\"data row2 col2\" >0.910000</td>\n",
              "      <td id=\"T_c3f2c_row2_col3\" class=\"data row2 col3\" >0.910000</td>\n",
              "    </tr>\n",
              "    <tr>\n",
              "      <th id=\"T_c3f2c_level0_row3\" class=\"row_heading level0 row3\" >macro avg</th>\n",
              "      <td id=\"T_c3f2c_row3_col0\" class=\"data row3 col0\" >0.850000</td>\n",
              "      <td id=\"T_c3f2c_row3_col1\" class=\"data row3 col1\" >0.800000</td>\n",
              "      <td id=\"T_c3f2c_row3_col2\" class=\"data row3 col2\" >0.820000</td>\n",
              "      <td id=\"T_c3f2c_row3_col3\" class=\"data row3 col3\" >6170.000000</td>\n",
              "    </tr>\n",
              "    <tr>\n",
              "      <th id=\"T_c3f2c_level0_row4\" class=\"row_heading level0 row4\" >weighted avg</th>\n",
              "      <td id=\"T_c3f2c_row4_col0\" class=\"data row4 col0\" >0.900000</td>\n",
              "      <td id=\"T_c3f2c_row4_col1\" class=\"data row4 col1\" >0.910000</td>\n",
              "      <td id=\"T_c3f2c_row4_col2\" class=\"data row4 col2\" >0.900000</td>\n",
              "      <td id=\"T_c3f2c_row4_col3\" class=\"data row4 col3\" >6170.000000</td>\n",
              "    </tr>\n",
              "  </tbody>\n",
              "</table>\n"
            ]
          },
          "metadata": {},
          "execution_count": 23
        }
      ]
    },
    {
      "cell_type": "markdown",
      "source": [
        "CONFUSION MATRIX"
      ],
      "metadata": {
        "id": "HHI2liWNFsMG"
      }
    },
    {
      "cell_type": "code",
      "source": [
        "svr_lin_predictions=svr_lin.predict(tvec.transform(X_test_cleaned))\n",
        "ax= plt.subplot()\n",
        "cm=confusion_matrix(Y_test,svr_lin_predictions)\n",
        "sns.heatmap(cm, annot=True, fmt='g', ax=ax,cmap='Greens');  \n",
        "ax.set_xlabel('Predicted labels');ax.set_ylabel('True labels');\n",
        "ax.set_title('Confusion Matrix');\n",
        "ax.xaxis.set_ticklabels(['negative', 'positive']); ax.yaxis.set_ticklabels(['negative', 'positive']);"
      ],
      "metadata": {
        "colab": {
          "base_uri": "https://localhost:8080/",
          "height": 295
        },
        "id": "_4kI6fSfFYW7",
        "outputId": "8dea3543-8f3b-4f95-f19b-9ca826569f40"
      },
      "execution_count": 24,
      "outputs": [
        {
          "output_type": "display_data",
          "data": {
            "text/plain": [
              "<Figure size 432x288 with 2 Axes>"
            ],
            "image/png": "[encoded data removed]"
          },
          "metadata": {
            "needs_background": "light"
          }
        }
      ]
    },
    {
      "cell_type": "code",
      "source": [],
      "metadata": {
        "id": "8NX4WAEmF3_I"
      },
      "execution_count": null,
      "outputs": []
    },
    {
      "cell_type": "markdown",
      "source": [
        "TESTING THE MODEL WITH NEGATIVE AND POSITIVE COMMENT"
      ],
      "metadata": {
        "id": "DF5x8lGxFvfZ"
      }
    },
    {
      "cell_type": "code",
      "source": [
        "demo_review = np.array(['three days of use and it broke very disappointed in this product it worked perfectly for exactly three days and could not be resuscitated it was very inexpensive so i did not want to pay half again the price to ship it back for an exchange so the company would do nothing when they sent me an inquiry as to product satisfaction'])\n",
        "demo_review_X_test = tvec.transform(demo_review)\n",
        "print(svr_lin.predict(demo_review_X_test))\n"
      ],
      "metadata": {
        "colab": {
          "base_uri": "https://localhost:8080/"
        },
        "id": "PbkGtgr2Fv3Y",
        "outputId": "65a209d7-b7e8-4fe3-ea45-cbaef11ff8d9"
      },
      "execution_count": 25,
      "outputs": [
        {
          "output_type": "stream",
          "name": "stdout",
          "text": [
            "[0]\n"
          ]
        }
      ]
    },
    {
      "cell_type": "code",
      "source": [
        "demo_review_2 = np.array(['Excellent product. Works well and performs as expected.'])\n",
        "demo_review_X_test_2 = tvec.transform(demo_review_2)\n",
        "print(svr_lin.predict(demo_review_X_test_2))\n"
      ],
      "metadata": {
        "colab": {
          "base_uri": "https://localhost:8080/"
        },
        "id": "n8G1vR-IFx9t",
        "outputId": "a166c4c1-a96c-418a-a0d0-87f57af13e12"
      },
      "execution_count": 26,
      "outputs": [
        {
          "output_type": "stream",
          "name": "stdout",
          "text": [
            "[1]\n"
          ]
        }
      ]
    },
    {
      "cell_type": "markdown",
      "source": [
        "BUILDING RANDOM FOREST MODEL"
      ],
      "metadata": {
        "id": "G0L6onduF2nC"
      }
    },
    {
      "cell_type": "code",
      "source": [
        "random_forest = RandomForestClassifier()\n",
        "random_forest.fit(X_train_tvec, Y_train)"
      ],
      "metadata": {
        "colab": {
          "base_uri": "https://localhost:8080/"
        },
        "id": "ctCmsXVjF5rT",
        "outputId": "e6a1cc9b-ae55-4a83-9d07-f69d9349e487"
      },
      "execution_count": 27,
      "outputs": [
        {
          "output_type": "execute_result",
          "data": {
            "text/plain": [
              "RandomForestClassifier()"
            ]
          },
          "metadata": {},
          "execution_count": 27
        }
      ]
    },
    {
      "cell_type": "markdown",
      "source": [
        "PREDICT USING TRAINING AND TESTING DATA FOR NEGATIVE AND POSITIVE REVIEW CLASSIFIER \n"
      ],
      "metadata": {
        "id": "WnBseRsfF9aH"
      }
    },
    {
      "cell_type": "code",
      "source": [
        "ranfrst_predictions = random_forest.predict(tvec.transform(X_test_cleaned))\n",
        "report = classification_report(Y_test,ranfrst_predictions, output_dict=True)\n",
        "data_report = pd.DataFrame(report).transpose().round(2)\n",
        "cm = sns.light_palette(\"PURPLE\", as_cmap=True)\n",
        "data_report.style.background_gradient(cmap=cm)"
      ],
      "metadata": {
        "colab": {
          "base_uri": "https://localhost:8080/",
          "height": 204
        },
        "id": "O0nPaJGLF-AG",
        "outputId": "32ed0575-6c59-41ac-9c24-a6b898c01b2d"
      },
      "execution_count": 31,
      "outputs": [
        {
          "output_type": "execute_result",
          "data": {
            "text/plain": [
              "<pandas.io.formats.style.Styler at 0x7f654f594cd0>"
            ],
            "text/html": [
              "<style type=\"text/css\">\n",
              "#T_c3392_row0_col0, #T_c3392_row0_col1, #T_c3392_row0_col2, #T_c3392_row2_col3 {\n",
              "  background-color: #f3f0f3;\n",
              "  color: #000000;\n",
              "}\n",
              "#T_c3392_row0_col3 {\n",
              "  background-color: #e0c8e0;\n",
              "  color: #000000;\n",
              "}\n",
              "#T_c3392_row1_col0, #T_c3392_row1_col1, #T_c3392_row1_col2, #T_c3392_row2_col0, #T_c3392_row3_col3, #T_c3392_row4_col3 {\n",
              "  background-color: #800080;\n",
              "  color: #f1f1f1;\n",
              "}\n",
              "#T_c3392_row1_col3, #T_c3392_row4_col2 {\n",
              "  background-color: #932793;\n",
              "  color: #f1f1f1;\n",
              "}\n",
              "#T_c3392_row2_col1, #T_c3392_row4_col1 {\n",
              "  background-color: #922792;\n",
              "  color: #f1f1f1;\n",
              "}\n",
              "#T_c3392_row2_col2 {\n",
              "  background-color: #8c188c;\n",
              "  color: #f1f1f1;\n",
              "}\n",
              "#T_c3392_row3_col0 {\n",
              "  background-color: #ae60ae;\n",
              "  color: #f1f1f1;\n",
              "}\n",
              "#T_c3392_row3_col1 {\n",
              "  background-color: #b977b9;\n",
              "  color: #f1f1f1;\n",
              "}\n",
              "#T_c3392_row3_col2 {\n",
              "  background-color: #ba78ba;\n",
              "  color: #f1f1f1;\n",
              "}\n",
              "#T_c3392_row4_col0 {\n",
              "  background-color: #973097;\n",
              "  color: #f1f1f1;\n",
              "}\n",
              "</style>\n",
              "<table id=\"T_c3392_\" class=\"dataframe\">\n",
              "  <thead>\n",
              "    <tr>\n",
              "      <th class=\"blank level0\" >&nbsp;</th>\n",
              "      <th class=\"col_heading level0 col0\" >precision</th>\n",
              "      <th class=\"col_heading level0 col1\" >recall</th>\n",
              "      <th class=\"col_heading level0 col2\" >f1-score</th>\n",
              "      <th class=\"col_heading level0 col3\" >support</th>\n",
              "    </tr>\n",
              "  </thead>\n",
              "  <tbody>\n",
              "    <tr>\n",
              "      <th id=\"T_c3392_level0_row0\" class=\"row_heading level0 row0\" >0</th>\n",
              "      <td id=\"T_c3392_row0_col0\" class=\"data row0 col0\" >0.830000</td>\n",
              "      <td id=\"T_c3392_row0_col1\" class=\"data row0 col1\" >0.310000</td>\n",
              "      <td id=\"T_c3392_row0_col2\" class=\"data row0 col2\" >0.450000</td>\n",
              "      <td id=\"T_c3392_row0_col3\" class=\"data row0 col3\" >1018.000000</td>\n",
              "    </tr>\n",
              "    <tr>\n",
              "      <th id=\"T_c3392_level0_row1\" class=\"row_heading level0 row1\" >1</th>\n",
              "      <td id=\"T_c3392_row1_col0\" class=\"data row1 col0\" >0.880000</td>\n",
              "      <td id=\"T_c3392_row1_col1\" class=\"data row1 col1\" >0.990000</td>\n",
              "      <td id=\"T_c3392_row1_col2\" class=\"data row1 col2\" >0.930000</td>\n",
              "      <td id=\"T_c3392_row1_col3\" class=\"data row1 col3\" >5152.000000</td>\n",
              "    </tr>\n",
              "    <tr>\n",
              "      <th id=\"T_c3392_level0_row2\" class=\"row_heading level0 row2\" >accuracy</th>\n",
              "      <td id=\"T_c3392_row2_col0\" class=\"data row2 col0\" >0.880000</td>\n",
              "      <td id=\"T_c3392_row2_col1\" class=\"data row2 col1\" >0.880000</td>\n",
              "      <td id=\"T_c3392_row2_col2\" class=\"data row2 col2\" >0.880000</td>\n",
              "      <td id=\"T_c3392_row2_col3\" class=\"data row2 col3\" >0.880000</td>\n",
              "    </tr>\n",
              "    <tr>\n",
              "      <th id=\"T_c3392_level0_row3\" class=\"row_heading level0 row3\" >macro avg</th>\n",
              "      <td id=\"T_c3392_row3_col0\" class=\"data row3 col0\" >0.860000</td>\n",
              "      <td id=\"T_c3392_row3_col1\" class=\"data row3 col1\" >0.650000</td>\n",
              "      <td id=\"T_c3392_row3_col2\" class=\"data row3 col2\" >0.690000</td>\n",
              "      <td id=\"T_c3392_row3_col3\" class=\"data row3 col3\" >6170.000000</td>\n",
              "    </tr>\n",
              "    <tr>\n",
              "      <th id=\"T_c3392_level0_row4\" class=\"row_heading level0 row4\" >weighted avg</th>\n",
              "      <td id=\"T_c3392_row4_col0\" class=\"data row4 col0\" >0.870000</td>\n",
              "      <td id=\"T_c3392_row4_col1\" class=\"data row4 col1\" >0.880000</td>\n",
              "      <td id=\"T_c3392_row4_col2\" class=\"data row4 col2\" >0.850000</td>\n",
              "      <td id=\"T_c3392_row4_col3\" class=\"data row4 col3\" >6170.000000</td>\n",
              "    </tr>\n",
              "  </tbody>\n",
              "</table>\n"
            ]
          },
          "metadata": {},
          "execution_count": 31
        }
      ]
    },
    {
      "cell_type": "markdown",
      "source": [
        "CONFUSION MATRIX"
      ],
      "metadata": {
        "id": "Eix2qaXlGCIB"
      }
    },
    {
      "cell_type": "code",
      "source": [
        "ranfrst_predictions=random_forest.predict(tvec.transform(X_test_cleaned))\n",
        "ax= plt.subplot()\n",
        "cm=confusion_matrix(Y_test,ranfrst_predictions)\n",
        "sns.heatmap(cm, annot=True, fmt='g', ax=ax,cmap='Oranges');  \n",
        "ax.set_xlabel('Predicted labels');ax.set_ylabel('True labels');\n",
        "ax.set_title('Confusion Matrix');\n",
        "ax.xaxis.set_ticklabels(['negative', 'positive']); ax.yaxis.set_ticklabels(['negative', 'positive']);"
      ],
      "metadata": {
        "colab": {
          "base_uri": "https://localhost:8080/",
          "height": 295
        },
        "id": "kvuFVp0_GQHn",
        "outputId": "c8b909b1-e971-4033-a5b2-cc09225985ce"
      },
      "execution_count": 32,
      "outputs": [
        {
          "output_type": "display_data",
          "data": {
            "text/plain": [
              "<Figure size 432x288 with 2 Axes>"
            ],
            "image/png": "[encoded data removed]"
          },
          "metadata": {
            "needs_background": "light"
          }
        }
      ]
    },
    {
      "cell_type": "markdown",
      "source": [
        "TESTING MODEL WITH NEGATIVE AND POSITIVE COMMENT"
      ],
      "metadata": {
        "id": "S9k4Ior1GTYA"
      }
    },
    {
      "cell_type": "code",
      "source": [
        "demo_review = np.array(['Do not buy. Fake Product.'])\n",
        "demo_review_X_test = tvec.transform(demo_review)\n",
        "print(random_forest.predict(demo_review_X_test))\n",
        "\n"
      ],
      "metadata": {
        "colab": {
          "base_uri": "https://localhost:8080/"
        },
        "id": "ohEjixuHGVdT",
        "outputId": "db98ff8f-62e1-43ce-ac3a-64289e46968b"
      },
      "execution_count": 33,
      "outputs": [
        {
          "output_type": "stream",
          "name": "stdout",
          "text": [
            "[0]\n"
          ]
        }
      ]
    },
    {
      "cell_type": "code",
      "source": [
        "demo_review_2 = np.array(['Original Product. Great Performance.'])\n",
        "demo_review_X_test_2 = tvec.transform(demo_review_2)\n",
        "print(random_forest.predict(demo_review_X_test_2))\n",
        "\n"
      ],
      "metadata": {
        "colab": {
          "base_uri": "https://localhost:8080/"
        },
        "id": "hS4DC9ZNGYZP",
        "outputId": "f39718f8-b583-4565-f368-d74ca679330e"
      },
      "execution_count": 34,
      "outputs": [
        {
          "output_type": "stream",
          "name": "stdout",
          "text": [
            "[1]\n"
          ]
        }
      ]
    },
    {
      "cell_type": "markdown",
      "source": [
        "TRAINING USING KNN MODEL"
      ],
      "metadata": {
        "id": "MfX-bzXNGZ9T"
      }
    },
    {
      "cell_type": "code",
      "source": [
        "knn = KNeighborsClassifier(n_neighbors=5,metric='minkowski',p=2)\n",
        "knn.fit(X_train_tvec, Y_train)"
      ],
      "metadata": {
        "colab": {
          "base_uri": "https://localhost:8080/"
        },
        "id": "9p3Jy3TRGcfb",
        "outputId": "99505d6a-1ce7-4cb4-dda8-9d8a707634be"
      },
      "execution_count": 35,
      "outputs": [
        {
          "output_type": "execute_result",
          "data": {
            "text/plain": [
              "KNeighborsClassifier()"
            ]
          },
          "metadata": {},
          "execution_count": 35
        }
      ]
    },
    {
      "cell_type": "markdown",
      "source": [
        "PREDICTING USING TRAINING AND TESTING DATA FOR NEGATIVE AND POSITIVE REVIEWS CLASSIFIER\n"
      ],
      "metadata": {
        "id": "VU6k6ZPAGeiJ"
      }
    },
    {
      "cell_type": "code",
      "source": [
        "knn_predictions = knn.predict(tvec.transform(X_test_cleaned))\n",
        "report = classification_report(Y_test,knn_predictions, output_dict=True)\n",
        "data_report = pd.DataFrame(report).transpose().round(2)\n",
        "cm = sns.light_palette(\"PINK\", as_cmap=True)\n",
        "data_report.style.background_gradient(cmap=cm)"
      ],
      "metadata": {
        "colab": {
          "base_uri": "https://localhost:8080/",
          "height": 204
        },
        "id": "67nLVmbcGgmj",
        "outputId": "d3d2c468-bb44-449a-f5fd-f79714ad42a5"
      },
      "execution_count": 37,
      "outputs": [
        {
          "output_type": "execute_result",
          "data": {
            "text/plain": [
              "<pandas.io.formats.style.Styler at 0x7f654ffeb6d0>"
            ],
            "text/html": [
              "<style type=\"text/css\">\n",
              "#T_9833d_row0_col0, #T_9833d_row0_col1, #T_9833d_row0_col2, #T_9833d_row2_col3 {\n",
              "  background-color: #f3f0f0;\n",
              "  color: #000000;\n",
              "}\n",
              "#T_9833d_row0_col3 {\n",
              "  background-color: #f5e8ea;\n",
              "  color: #000000;\n",
              "}\n",
              "#T_9833d_row1_col0, #T_9833d_row1_col1, #T_9833d_row1_col2, #T_9833d_row2_col0, #T_9833d_row3_col3, #T_9833d_row4_col3 {\n",
              "  background-color: #ffc0cb;\n",
              "  color: #000000;\n",
              "}\n",
              "#T_9833d_row1_col3, #T_9833d_row2_col1, #T_9833d_row4_col1, #T_9833d_row4_col2 {\n",
              "  background-color: #fdc8d1;\n",
              "  color: #000000;\n",
              "}\n",
              "#T_9833d_row2_col2 {\n",
              "  background-color: #fec4ce;\n",
              "  color: #000000;\n",
              "}\n",
              "#T_9833d_row3_col0, #T_9833d_row3_col1 {\n",
              "  background-color: #f9d8de;\n",
              "  color: #000000;\n",
              "}\n",
              "#T_9833d_row3_col2 {\n",
              "  background-color: #f9d8dd;\n",
              "  color: #000000;\n",
              "}\n",
              "#T_9833d_row4_col0 {\n",
              "  background-color: #fdcad2;\n",
              "  color: #000000;\n",
              "}\n",
              "</style>\n",
              "<table id=\"T_9833d_\" class=\"dataframe\">\n",
              "  <thead>\n",
              "    <tr>\n",
              "      <th class=\"blank level0\" >&nbsp;</th>\n",
              "      <th class=\"col_heading level0 col0\" >precision</th>\n",
              "      <th class=\"col_heading level0 col1\" >recall</th>\n",
              "      <th class=\"col_heading level0 col2\" >f1-score</th>\n",
              "      <th class=\"col_heading level0 col3\" >support</th>\n",
              "    </tr>\n",
              "  </thead>\n",
              "  <tbody>\n",
              "    <tr>\n",
              "      <th id=\"T_9833d_level0_row0\" class=\"row_heading level0 row0\" >0</th>\n",
              "      <td id=\"T_9833d_row0_col0\" class=\"data row0 col0\" >0.740000</td>\n",
              "      <td id=\"T_9833d_row0_col1\" class=\"data row0 col1\" >0.030000</td>\n",
              "      <td id=\"T_9833d_row0_col2\" class=\"data row0 col2\" >0.060000</td>\n",
              "      <td id=\"T_9833d_row0_col3\" class=\"data row0 col3\" >1018.000000</td>\n",
              "    </tr>\n",
              "    <tr>\n",
              "      <th id=\"T_9833d_level0_row1\" class=\"row_heading level0 row1\" >1</th>\n",
              "      <td id=\"T_9833d_row1_col0\" class=\"data row1 col0\" >0.840000</td>\n",
              "      <td id=\"T_9833d_row1_col1\" class=\"data row1 col1\" >1.000000</td>\n",
              "      <td id=\"T_9833d_row1_col2\" class=\"data row1 col2\" >0.910000</td>\n",
              "      <td id=\"T_9833d_row1_col3\" class=\"data row1 col3\" >5152.000000</td>\n",
              "    </tr>\n",
              "    <tr>\n",
              "      <th id=\"T_9833d_level0_row2\" class=\"row_heading level0 row2\" >accuracy</th>\n",
              "      <td id=\"T_9833d_row2_col0\" class=\"data row2 col0\" >0.840000</td>\n",
              "      <td id=\"T_9833d_row2_col1\" class=\"data row2 col1\" >0.840000</td>\n",
              "      <td id=\"T_9833d_row2_col2\" class=\"data row2 col2\" >0.840000</td>\n",
              "      <td id=\"T_9833d_row2_col3\" class=\"data row2 col3\" >0.840000</td>\n",
              "    </tr>\n",
              "    <tr>\n",
              "      <th id=\"T_9833d_level0_row3\" class=\"row_heading level0 row3\" >macro avg</th>\n",
              "      <td id=\"T_9833d_row3_col0\" class=\"data row3 col0\" >0.790000</td>\n",
              "      <td id=\"T_9833d_row3_col1\" class=\"data row3 col1\" >0.510000</td>\n",
              "      <td id=\"T_9833d_row3_col2\" class=\"data row3 col2\" >0.490000</td>\n",
              "      <td id=\"T_9833d_row3_col3\" class=\"data row3 col3\" >6170.000000</td>\n",
              "    </tr>\n",
              "    <tr>\n",
              "      <th id=\"T_9833d_level0_row4\" class=\"row_heading level0 row4\" >weighted avg</th>\n",
              "      <td id=\"T_9833d_row4_col0\" class=\"data row4 col0\" >0.820000</td>\n",
              "      <td id=\"T_9833d_row4_col1\" class=\"data row4 col1\" >0.840000</td>\n",
              "      <td id=\"T_9833d_row4_col2\" class=\"data row4 col2\" >0.770000</td>\n",
              "      <td id=\"T_9833d_row4_col3\" class=\"data row4 col3\" >6170.000000</td>\n",
              "    </tr>\n",
              "  </tbody>\n",
              "</table>\n"
            ]
          },
          "metadata": {},
          "execution_count": 37
        }
      ]
    },
    {
      "cell_type": "markdown",
      "source": [
        "CONFUSION MATRIX"
      ],
      "metadata": {
        "id": "peLFosH8GlIV"
      }
    },
    {
      "cell_type": "code",
      "source": [
        "knn_predictions=knn.predict(tvec.transform(X_test_cleaned))\n",
        "ax= plt.subplot()\n",
        "cm=confusion_matrix(Y_test,knn_predictions)\n",
        "sns.heatmap(cm, annot=True, fmt='g', ax=ax,cmap='Reds');  \n",
        "ax.set_xlabel('Predicted labels');ax.set_ylabel('True labels');\n",
        "ax.set_title('Confusion Matrix');\n",
        "ax.xaxis.set_ticklabels(['negative', 'positive']); ax.yaxis.set_ticklabels(['negative', 'positive']);"
      ],
      "metadata": {
        "colab": {
          "base_uri": "https://localhost:8080/",
          "height": 295
        },
        "id": "s7wwHyxcGrHZ",
        "outputId": "6cab16a3-47d5-4a97-d973-92900a7772fe"
      },
      "execution_count": 38,
      "outputs": [
        {
          "output_type": "display_data",
          "data": {
            "text/plain": [
              "<Figure size 432x288 with 2 Axes>"
            ],
            "image/png": "[encoded data removed]"
          },
          "metadata": {
            "needs_background": "light"
          }
        }
      ]
    },
    {
      "cell_type": "markdown",
      "source": [
        "TESTING THE MODEL WITH NEGATIVE AND POSITIVE COMMENT"
      ],
      "metadata": {
        "id": "Ur-JXqpPGvZ0"
      }
    },
    {
      "cell_type": "code",
      "source": [
        "demo_review = np.array(['Bad product. Very much disappointed'])\n",
        "demo_review_X_test = tvec.transform(demo_review)\n",
        "print(knn.predict(demo_review_X_test))\n",
        "\n"
      ],
      "metadata": {
        "colab": {
          "base_uri": "https://localhost:8080/"
        },
        "id": "ijhaV6VpGv_F",
        "outputId": "5248d866-4886-46ba-f551-97d8738ae156"
      },
      "execution_count": 39,
      "outputs": [
        {
          "output_type": "stream",
          "name": "stdout",
          "text": [
            "[0]\n"
          ]
        }
      ]
    },
    {
      "cell_type": "code",
      "source": [
        "demo_review_2 = np.array(['Excellent product. Works well and performs as expected.'])\n",
        "demo_review_X_test_2 = tvec.transform(demo_review_2)\n",
        "print(knn.predict(demo_review_X_test_2))\n",
        "\n"
      ],
      "metadata": {
        "colab": {
          "base_uri": "https://localhost:8080/"
        },
        "id": "mvh3ptuZG0n4",
        "outputId": "e1593f6d-7f76-47a7-c132-17b4c247ff0a"
      },
      "execution_count": 40,
      "outputs": [
        {
          "output_type": "stream",
          "name": "stdout",
          "text": [
            "[1]\n"
          ]
        }
      ]
    },
    {
      "cell_type": "markdown",
      "source": [
        "TRAINING USING LOGISTIC REGRESSION"
      ],
      "metadata": {
        "id": "k2NqtHytG7P7"
      }
    },
    {
      "cell_type": "code",
      "source": [
        "lr = LogisticRegression()\n",
        "lr.fit(X_train_tvec, Y_train)"
      ],
      "metadata": {
        "colab": {
          "base_uri": "https://localhost:8080/"
        },
        "id": "cJqPkQm0G7yr",
        "outputId": "7b12f0de-2d12-415d-8063-f8ee7c80f0cd"
      },
      "execution_count": 41,
      "outputs": [
        {
          "output_type": "execute_result",
          "data": {
            "text/plain": [
              "LogisticRegression()"
            ]
          },
          "metadata": {},
          "execution_count": 41
        }
      ]
    },
    {
      "cell_type": "markdown",
      "source": [
        "MAKING PREDICTIONS"
      ],
      "metadata": {
        "id": "MGIcOkHSG9tL"
      }
    },
    {
      "cell_type": "code",
      "source": [
        "lr_predictions = lr.predict(tvec.transform(X_test_cleaned))\n",
        "report = classification_report(Y_test,lr_predictions, output_dict=True)\n",
        "data_report = pd.DataFrame(report).transpose().round(2)\n",
        "cm = sns.light_palette(\"purple\", as_cmap=True)\n",
        "data_report.style.background_gradient(cmap=cm)"
      ],
      "metadata": {
        "colab": {
          "base_uri": "https://localhost:8080/",
          "height": 204
        },
        "id": "jqQA_Rs0G_YB",
        "outputId": "3ebbf932-780f-46a8-eb9f-f1d80f64e8f1"
      },
      "execution_count": 42,
      "outputs": [
        {
          "output_type": "execute_result",
          "data": {
            "text/plain": [
              "<pandas.io.formats.style.Styler at 0x7f654c7e4cd0>"
            ],
            "text/html": [
              "<style type=\"text/css\">\n",
              "#T_f349e_row0_col0, #T_f349e_row0_col1, #T_f349e_row0_col2, #T_f349e_row2_col3 {\n",
              "  background-color: #f3f0f3;\n",
              "  color: #000000;\n",
              "}\n",
              "#T_f349e_row0_col3 {\n",
              "  background-color: #e0c8e0;\n",
              "  color: #000000;\n",
              "}\n",
              "#T_f349e_row1_col0, #T_f349e_row1_col1, #T_f349e_row1_col2, #T_f349e_row3_col3, #T_f349e_row4_col3 {\n",
              "  background-color: #800080;\n",
              "  color: #f1f1f1;\n",
              "}\n",
              "#T_f349e_row1_col3 {\n",
              "  background-color: #932793;\n",
              "  color: #f1f1f1;\n",
              "}\n",
              "#T_f349e_row2_col0 {\n",
              "  background-color: #891289;\n",
              "  color: #f1f1f1;\n",
              "}\n",
              "#T_f349e_row2_col1, #T_f349e_row4_col1 {\n",
              "  background-color: #922692;\n",
              "  color: #f1f1f1;\n",
              "}\n",
              "#T_f349e_row2_col2 {\n",
              "  background-color: #902290;\n",
              "  color: #f1f1f1;\n",
              "}\n",
              "#T_f349e_row3_col0 {\n",
              "  background-color: #b56fb5;\n",
              "  color: #f1f1f1;\n",
              "}\n",
              "#T_f349e_row3_col1, #T_f349e_row3_col2 {\n",
              "  background-color: #b977b9;\n",
              "  color: #f1f1f1;\n",
              "}\n",
              "#T_f349e_row4_col0 {\n",
              "  background-color: #922592;\n",
              "  color: #f1f1f1;\n",
              "}\n",
              "#T_f349e_row4_col2 {\n",
              "  background-color: #942a94;\n",
              "  color: #f1f1f1;\n",
              "}\n",
              "</style>\n",
              "<table id=\"T_f349e_\" class=\"dataframe\">\n",
              "  <thead>\n",
              "    <tr>\n",
              "      <th class=\"blank level0\" >&nbsp;</th>\n",
              "      <th class=\"col_heading level0 col0\" >precision</th>\n",
              "      <th class=\"col_heading level0 col1\" >recall</th>\n",
              "      <th class=\"col_heading level0 col2\" >f1-score</th>\n",
              "      <th class=\"col_heading level0 col3\" >support</th>\n",
              "    </tr>\n",
              "  </thead>\n",
              "  <tbody>\n",
              "    <tr>\n",
              "      <th id=\"T_f349e_level0_row0\" class=\"row_heading level0 row0\" >0</th>\n",
              "      <td id=\"T_f349e_row0_col0\" class=\"data row0 col0\" >0.790000</td>\n",
              "      <td id=\"T_f349e_row0_col1\" class=\"data row0 col1\" >0.590000</td>\n",
              "      <td id=\"T_f349e_row0_col2\" class=\"data row0 col2\" >0.670000</td>\n",
              "      <td id=\"T_f349e_row0_col3\" class=\"data row0 col3\" >1018.000000</td>\n",
              "    </tr>\n",
              "    <tr>\n",
              "      <th id=\"T_f349e_level0_row1\" class=\"row_heading level0 row1\" >1</th>\n",
              "      <td id=\"T_f349e_row1_col0\" class=\"data row1 col0\" >0.920000</td>\n",
              "      <td id=\"T_f349e_row1_col1\" class=\"data row1 col1\" >0.970000</td>\n",
              "      <td id=\"T_f349e_row1_col2\" class=\"data row1 col2\" >0.950000</td>\n",
              "      <td id=\"T_f349e_row1_col3\" class=\"data row1 col3\" >5152.000000</td>\n",
              "    </tr>\n",
              "    <tr>\n",
              "      <th id=\"T_f349e_level0_row2\" class=\"row_heading level0 row2\" >accuracy</th>\n",
              "      <td id=\"T_f349e_row2_col0\" class=\"data row2 col0\" >0.910000</td>\n",
              "      <td id=\"T_f349e_row2_col1\" class=\"data row2 col1\" >0.910000</td>\n",
              "      <td id=\"T_f349e_row2_col2\" class=\"data row2 col2\" >0.910000</td>\n",
              "      <td id=\"T_f349e_row2_col3\" class=\"data row2 col3\" >0.910000</td>\n",
              "    </tr>\n",
              "    <tr>\n",
              "      <th id=\"T_f349e_level0_row3\" class=\"row_heading level0 row3\" >macro avg</th>\n",
              "      <td id=\"T_f349e_row3_col0\" class=\"data row3 col0\" >0.860000</td>\n",
              "      <td id=\"T_f349e_row3_col1\" class=\"data row3 col1\" >0.780000</td>\n",
              "      <td id=\"T_f349e_row3_col2\" class=\"data row3 col2\" >0.810000</td>\n",
              "      <td id=\"T_f349e_row3_col3\" class=\"data row3 col3\" >6170.000000</td>\n",
              "    </tr>\n",
              "    <tr>\n",
              "      <th id=\"T_f349e_level0_row4\" class=\"row_heading level0 row4\" >weighted avg</th>\n",
              "      <td id=\"T_f349e_row4_col0\" class=\"data row4 col0\" >0.900000</td>\n",
              "      <td id=\"T_f349e_row4_col1\" class=\"data row4 col1\" >0.910000</td>\n",
              "      <td id=\"T_f349e_row4_col2\" class=\"data row4 col2\" >0.900000</td>\n",
              "      <td id=\"T_f349e_row4_col3\" class=\"data row4 col3\" >6170.000000</td>\n",
              "    </tr>\n",
              "  </tbody>\n",
              "</table>\n"
            ]
          },
          "metadata": {},
          "execution_count": 42
        }
      ]
    },
    {
      "cell_type": "markdown",
      "source": [
        "CONFUSION MATRIX"
      ],
      "metadata": {
        "id": "0cux_pkRHBoZ"
      }
    },
    {
      "cell_type": "code",
      "source": [
        "lr_predictions=lr.predict(tvec.transform(X_test_cleaned))\n",
        "ax= plt.subplot()\n",
        "cm=confusion_matrix(Y_test,lr_predictions)\n",
        "sns.heatmap(cm, annot=True, fmt='g', ax=ax,cmap='Reds');  \n",
        "ax.set_xlabel('Predicted labels');ax.set_ylabel('True labels');\n",
        "ax.set_title('Confusion Matrix');\n",
        "ax.xaxis.set_ticklabels(['negative', 'positive']); ax.yaxis.set_ticklabels(['negative', 'positive']);"
      ],
      "metadata": {
        "colab": {
          "base_uri": "https://localhost:8080/",
          "height": 295
        },
        "id": "CHkkrPzcHDg9",
        "outputId": "0f9d96ea-978b-4a92-ba32-c5e5fe43092d"
      },
      "execution_count": 46,
      "outputs": [
        {
          "output_type": "display_data",
          "data": {
            "text/plain": [
              "<Figure size 432x288 with 2 Axes>"
            ],
            "image/png": "[encoded data removed]"
          },
          "metadata": {
            "needs_background": "light"
          }
        }
      ]
    },
    {
      "cell_type": "markdown",
      "source": [
        "TESTING WITH NEGATIVE AND POSITIVE COMMENT"
      ],
      "metadata": {
        "id": "w1xHvQCmHIkw"
      }
    },
    {
      "cell_type": "code",
      "source": [
        "demo_review = np.array(['Poor quality. Faulty device.'])\n",
        "demo_review_X_test = tvec.transform(demo_review)\n",
        "print(lr.predict(demo_review_X_test))\n"
      ],
      "metadata": {
        "colab": {
          "base_uri": "https://localhost:8080/"
        },
        "id": "H4PDTb2IHSWi",
        "outputId": "718b114e-70f6-4ac8-e180-bc6514887608"
      },
      "execution_count": 47,
      "outputs": [
        {
          "output_type": "stream",
          "name": "stdout",
          "text": [
            "[0]\n"
          ]
        }
      ]
    },
    {
      "cell_type": "code",
      "source": [
        "demo_review_2 = np.array(['Best product.'])\n",
        "demo_review_X_test_2 = tvec.transform(demo_review_2)\n",
        "print(lr.predict(demo_review_X_test_2))\n"
      ],
      "metadata": {
        "colab": {
          "base_uri": "https://localhost:8080/"
        },
        "id": "YZosIm1XHTYD",
        "outputId": "560933ba-4660-40fc-af80-8eda6319c778"
      },
      "execution_count": 48,
      "outputs": [
        {
          "output_type": "stream",
          "name": "stdout",
          "text": [
            "[1]\n"
          ]
        }
      ]
    },
    {
      "cell_type": "markdown",
      "source": [
        "TRAINING ON NAIVE BAYES MODEL "
      ],
      "metadata": {
        "id": "wxWTP1bLHVNp"
      }
    },
    {
      "cell_type": "code",
      "source": [
        "nbm = naive_bayes.MultinomialNB()\n",
        "nbm.fit(X_train_tvec, Y_train)"
      ],
      "metadata": {
        "colab": {
          "base_uri": "https://localhost:8080/"
        },
        "id": "Mxf5JqBUHa0r",
        "outputId": "fba8ea03-0fd4-4d0e-c512-3ef7a7e22412"
      },
      "execution_count": 49,
      "outputs": [
        {
          "output_type": "execute_result",
          "data": {
            "text/plain": [
              "MultinomialNB()"
            ]
          },
          "metadata": {},
          "execution_count": 49
        }
      ]
    },
    {
      "cell_type": "markdown",
      "source": [
        "MAKING PREDICTIONS"
      ],
      "metadata": {
        "id": "CuYeK_VFHdYP"
      }
    },
    {
      "cell_type": "code",
      "source": [
        "nbm_predictions = nbm.predict(tvec.transform(X_test_cleaned))\n",
        "report = classification_report(Y_test,nbm_predictions, output_dict=True)\n",
        "data_report = pd.DataFrame(report).transpose().round(2)\n",
        "cm = sns.light_palette(\"blue\", as_cmap=True)\n",
        "data_report.style.background_gradient(cmap=cm)"
      ],
      "metadata": {
        "colab": {
          "base_uri": "https://localhost:8080/",
          "height": 204
        },
        "id": "2eRvMvafHfHg",
        "outputId": "c23c0598-fe6c-42a3-d2ea-00bba8d95aab"
      },
      "execution_count": 50,
      "outputs": [
        {
          "output_type": "execute_result",
          "data": {
            "text/plain": [
              "<pandas.io.formats.style.Styler at 0x7f654f61e880>"
            ],
            "text/html": [
              "<style type=\"text/css\">\n",
              "#T_c29e4_row0_col0, #T_c29e4_row1_col1, #T_c29e4_row1_col2, #T_c29e4_row3_col3, #T_c29e4_row4_col3 {\n",
              "  background-color: #0000ff;\n",
              "  color: #f1f1f1;\n",
              "}\n",
              "#T_c29e4_row0_col1, #T_c29e4_row0_col2, #T_c29e4_row1_col0, #T_c29e4_row2_col0, #T_c29e4_row2_col3, #T_c29e4_row4_col0 {\n",
              "  background-color: #f0f0f3;\n",
              "  color: #000000;\n",
              "}\n",
              "#T_c29e4_row0_col3 {\n",
              "  background-color: #c9c9f5;\n",
              "  color: #000000;\n",
              "}\n",
              "#T_c29e4_row1_col3, #T_c29e4_row2_col1, #T_c29e4_row4_col1, #T_c29e4_row4_col2 {\n",
              "  background-color: #2828fd;\n",
              "  color: #f1f1f1;\n",
              "}\n",
              "#T_c29e4_row2_col2 {\n",
              "  background-color: #1616fe;\n",
              "  color: #f1f1f1;\n",
              "}\n",
              "#T_c29e4_row3_col0 {\n",
              "  background-color: #9090f8;\n",
              "  color: #f1f1f1;\n",
              "}\n",
              "#T_c29e4_row3_col1 {\n",
              "  background-color: #7a7af9;\n",
              "  color: #f1f1f1;\n",
              "}\n",
              "#T_c29e4_row3_col2 {\n",
              "  background-color: #7979f9;\n",
              "  color: #f1f1f1;\n",
              "}\n",
              "</style>\n",
              "<table id=\"T_c29e4_\" class=\"dataframe\">\n",
              "  <thead>\n",
              "    <tr>\n",
              "      <th class=\"blank level0\" >&nbsp;</th>\n",
              "      <th class=\"col_heading level0 col0\" >precision</th>\n",
              "      <th class=\"col_heading level0 col1\" >recall</th>\n",
              "      <th class=\"col_heading level0 col2\" >f1-score</th>\n",
              "      <th class=\"col_heading level0 col3\" >support</th>\n",
              "    </tr>\n",
              "  </thead>\n",
              "  <tbody>\n",
              "    <tr>\n",
              "      <th id=\"T_c29e4_level0_row0\" class=\"row_heading level0 row0\" >0</th>\n",
              "      <td id=\"T_c29e4_row0_col0\" class=\"data row0 col0\" >0.910000</td>\n",
              "      <td id=\"T_c29e4_row0_col1\" class=\"data row0 col1\" >0.150000</td>\n",
              "      <td id=\"T_c29e4_row0_col2\" class=\"data row0 col2\" >0.260000</td>\n",
              "      <td id=\"T_c29e4_row0_col3\" class=\"data row0 col3\" >1018.000000</td>\n",
              "    </tr>\n",
              "    <tr>\n",
              "      <th id=\"T_c29e4_level0_row1\" class=\"row_heading level0 row1\" >1</th>\n",
              "      <td id=\"T_c29e4_row1_col0\" class=\"data row1 col0\" >0.860000</td>\n",
              "      <td id=\"T_c29e4_row1_col1\" class=\"data row1 col1\" >1.000000</td>\n",
              "      <td id=\"T_c29e4_row1_col2\" class=\"data row1 col2\" >0.920000</td>\n",
              "      <td id=\"T_c29e4_row1_col3\" class=\"data row1 col3\" >5152.000000</td>\n",
              "    </tr>\n",
              "    <tr>\n",
              "      <th id=\"T_c29e4_level0_row2\" class=\"row_heading level0 row2\" >accuracy</th>\n",
              "      <td id=\"T_c29e4_row2_col0\" class=\"data row2 col0\" >0.860000</td>\n",
              "      <td id=\"T_c29e4_row2_col1\" class=\"data row2 col1\" >0.860000</td>\n",
              "      <td id=\"T_c29e4_row2_col2\" class=\"data row2 col2\" >0.860000</td>\n",
              "      <td id=\"T_c29e4_row2_col3\" class=\"data row2 col3\" >0.860000</td>\n",
              "    </tr>\n",
              "    <tr>\n",
              "      <th id=\"T_c29e4_level0_row3\" class=\"row_heading level0 row3\" >macro avg</th>\n",
              "      <td id=\"T_c29e4_row3_col0\" class=\"data row3 col0\" >0.880000</td>\n",
              "      <td id=\"T_c29e4_row3_col1\" class=\"data row3 col1\" >0.570000</td>\n",
              "      <td id=\"T_c29e4_row3_col2\" class=\"data row3 col2\" >0.590000</td>\n",
              "      <td id=\"T_c29e4_row3_col3\" class=\"data row3 col3\" >6170.000000</td>\n",
              "    </tr>\n",
              "    <tr>\n",
              "      <th id=\"T_c29e4_level0_row4\" class=\"row_heading level0 row4\" >weighted avg</th>\n",
              "      <td id=\"T_c29e4_row4_col0\" class=\"data row4 col0\" >0.860000</td>\n",
              "      <td id=\"T_c29e4_row4_col1\" class=\"data row4 col1\" >0.860000</td>\n",
              "      <td id=\"T_c29e4_row4_col2\" class=\"data row4 col2\" >0.810000</td>\n",
              "      <td id=\"T_c29e4_row4_col3\" class=\"data row4 col3\" >6170.000000</td>\n",
              "    </tr>\n",
              "  </tbody>\n",
              "</table>\n"
            ]
          },
          "metadata": {},
          "execution_count": 50
        }
      ]
    },
    {
      "cell_type": "markdown",
      "source": [
        "CONFUSION MATRIX"
      ],
      "metadata": {
        "id": "CnsTJbtKHhV0"
      }
    },
    {
      "cell_type": "code",
      "source": [
        "nbm_predictions=nbm.predict(tvec.transform(X_test_cleaned))\n",
        "ax= plt.subplot()\n",
        "cm=confusion_matrix(Y_test,nbm_predictions)\n",
        "sns.heatmap(cm, annot=True, fmt='g', ax=ax,cmap='Purples');  \n",
        "ax.set_xlabel('Predicted labels');ax.set_ylabel('True labels');\n",
        "ax.set_title('Confusion Matrix');\n",
        "ax.xaxis.set_ticklabels(['negative', 'positive']); ax.yaxis.set_ticklabels(['negative', 'positive']);"
      ],
      "metadata": {
        "colab": {
          "base_uri": "https://localhost:8080/",
          "height": 295
        },
        "id": "HEoinY-dHja6",
        "outputId": "72b3d093-522e-453a-f3d1-4d3d86642c52"
      },
      "execution_count": 51,
      "outputs": [
        {
          "output_type": "display_data",
          "data": {
            "text/plain": [
              "<Figure size 432x288 with 2 Axes>"
            ],
            "image/png": "[encoded data removed]"
          },
          "metadata": {
            "needs_background": "light"
          }
        }
      ]
    },
    {
      "cell_type": "markdown",
      "source": [
        "TESTING THE MODEL WITH NEGATIVE AND POSITIVE COMMENT"
      ],
      "metadata": {
        "id": "IXPn7fCDHoUi"
      }
    },
    {
      "cell_type": "code",
      "source": [
        "demo_review = np.array(['Defective. Bad. Stopped working after one day use'])\n",
        "demo_review_X_test = tvec.transform(demo_review)\n",
        "print(nbm.predict(demo_review_X_test))\n"
      ],
      "metadata": {
        "colab": {
          "base_uri": "https://localhost:8080/"
        },
        "id": "thRYx6iqHqZu",
        "outputId": "09ac4525-5567-4fb6-f2d9-d4cdd7a487ea"
      },
      "execution_count": 52,
      "outputs": [
        {
          "output_type": "stream",
          "name": "stdout",
          "text": [
            "[0]\n"
          ]
        }
      ]
    },
    {
      "cell_type": "code",
      "source": [
        "demo_review_2 = np.array(['Good product. highly recommend buying.'])\n",
        "demo_review_X_test_2 = tvec.transform(demo_review_2)\n",
        "print(nbm.predict(demo_review_X_test_2))\n"
      ],
      "metadata": {
        "colab": {
          "base_uri": "https://localhost:8080/"
        },
        "id": "ReWjlatdHsX8",
        "outputId": "5f7d0cbd-94c8-4508-e953-bd77c04f9fb1"
      },
      "execution_count": 53,
      "outputs": [
        {
          "output_type": "stream",
          "name": "stdout",
          "text": [
            "[1]\n"
          ]
        }
      ]
    }
  ]
}